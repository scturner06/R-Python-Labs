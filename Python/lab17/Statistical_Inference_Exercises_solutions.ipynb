{
 "cells": [
  {
   "cell_type": "markdown",
   "metadata": {},
   "source": [
    "# Statistical Inference"
   ]
  },
  {
   "cell_type": "markdown",
   "metadata": {},
   "source": [
    "Answer questions with Python whenever possible"
   ]
  },
  {
   "cell_type": "markdown",
   "metadata": {},
   "source": [
    "-------------------"
   ]
  },
  {
   "cell_type": "markdown",
   "metadata": {},
   "source": [
    "# Introduction"
   ]
  },
  {
   "cell_type": "markdown",
   "metadata": {},
   "source": [
    "**Question** - The goal of statistical inference is to? \n",
    "1. Infer facts about a population from a sample.\n",
    "2. Infer facts about the sample from a population.\n",
    "3. Calculate sample quantities to understand your data.\n",
    "4. To torture Data Science students."
   ]
  },
  {
   "cell_type": "code",
   "execution_count": null,
   "metadata": {
    "collapsed": true
   },
   "outputs": [],
   "source": [
    "1, 3, 4"
   ]
  },
  {
   "cell_type": "markdown",
   "metadata": {},
   "source": [
    "**Question** - The goal of randomization of a treatment in a randomized trial is to?\n",
    "1. It doesn’t really do anything.\n",
    "2. To obtain a representative sample of subjects from the population of interest.\n",
    "3. Balance unobserved covariates that may contaminate the comparison between the\n",
    "    treated and control groups.\n",
    "4. To add variation to our conclusions.\n"
   ]
  },
  {
   "cell_type": "code",
   "execution_count": null,
   "metadata": {
    "collapsed": true
   },
   "outputs": [],
   "source": []
  },
  {
   "cell_type": "markdown",
   "metadata": {},
   "source": [
    "**Question** - Probability is a?\n",
    "1. Population quantity that we can potentially estimate from data.\n",
    "2. A data quantity that does not require the idea of a population."
   ]
  },
  {
   "cell_type": "code",
   "execution_count": null,
   "metadata": {
    "collapsed": true
   },
   "outputs": [],
   "source": []
  },
  {
   "cell_type": "markdown",
   "metadata": {},
   "source": [
    "# Probability"
   ]
  },
  {
   "cell_type": "markdown",
   "metadata": {},
   "source": [
    "**Question** - Can you add the probabilities of any two events to get the probability of at least one occurring?"
   ]
  },
  {
   "cell_type": "code",
   "execution_count": null,
   "metadata": {
    "collapsed": true
   },
   "outputs": [],
   "source": []
  },
  {
   "cell_type": "markdown",
   "metadata": {},
   "source": [
    "**Question** -  I define a PMF, p so that for x = 0 and x = 1 we have p(0) = 􀀀0:1 and p(1) = 1:1. Is this a\n",
    "valid PMF?"
   ]
  },
  {
   "cell_type": "code",
   "execution_count": null,
   "metadata": {
    "collapsed": true
   },
   "outputs": [],
   "source": []
  },
  {
   "cell_type": "markdown",
   "metadata": {},
   "source": [
    "**Question** -  What is the probability that 75% or fewer calls get answered in a randomly sampled day from\n",
    "the population distribution from this chapter?"
   ]
  },
  {
   "cell_type": "code",
   "execution_count": null,
   "metadata": {
    "collapsed": true
   },
   "outputs": [],
   "source": []
  },
  {
   "cell_type": "markdown",
   "metadata": {},
   "source": [
    "**Question** -  The 97.5th percentile of a distribution is?"
   ]
  },
  {
   "cell_type": "code",
   "execution_count": null,
   "metadata": {
    "collapsed": true
   },
   "outputs": [],
   "source": []
  },
  {
   "cell_type": "markdown",
   "metadata": {},
   "source": [
    "**Question** -  Consider influenza epidemics for two parent heterosexual families. Suppose that the probability\n",
    "is 15% that at least one of the parents has contracted the disease. The probability that the\n",
    "father has contracted influenza is 10% while that the mother contracted the disease is 9%. What\n",
    "is the probability that both contracted influenza expressed as a whole number percentage?"
   ]
  },
  {
   "cell_type": "code",
   "execution_count": null,
   "metadata": {
    "collapsed": true
   },
   "outputs": [],
   "source": []
  },
  {
   "cell_type": "markdown",
   "metadata": {},
   "source": [
    "**Question** -  A random variable, X, is uniform, a box from 0 to 1 of height 1. (So that it’s density is f(x) = 1\n",
    "for 0 <= x <= 1.) What is it’s median expressed to two decimal places?"
   ]
  },
  {
   "cell_type": "code",
   "execution_count": null,
   "metadata": {
    "collapsed": true
   },
   "outputs": [],
   "source": []
  },
  {
   "cell_type": "markdown",
   "metadata": {},
   "source": [
    "**Question** -  If a continuous density that never touches the horizontal axis is symmetric about zero, can\n",
    "we say that its associated median is zero?"
   ]
  },
  {
   "cell_type": "markdown",
   "metadata": {},
   "source": []
  },
  {
   "cell_type": "markdown",
   "metadata": {},
   "source": [
    "# Conditional Probability"
   ]
  },
  {
   "cell_type": "markdown",
   "metadata": {},
   "source": [
    "**Question** - The odds associated with a probability, p, are defined as? I pull a card from a deck and do not show you the result. I say that the resulting card is a\n",
    "heart. What is the probability that it is the queen of hearts?"
   ]
  },
  {
   "cell_type": "code",
   "execution_count": null,
   "metadata": {
    "collapsed": true
   },
   "outputs": [],
   "source": []
  },
  {
   "cell_type": "markdown",
   "metadata": {},
   "source": [
    "**Question** - The odds associated with a probability, p, are defined as?"
   ]
  },
  {
   "cell_type": "code",
   "execution_count": null,
   "metadata": {
    "collapsed": true
   },
   "outputs": [],
   "source": []
  },
  {
   "cell_type": "markdown",
   "metadata": {},
   "source": [
    "**Question** - The odds associated with a probability, p, are defined as? The probability of getting two sixes when rolling a pair of dice is?"
   ]
  },
  {
   "cell_type": "code",
   "execution_count": null,
   "metadata": {
    "collapsed": true
   },
   "outputs": [],
   "source": []
  },
  {
   "cell_type": "markdown",
   "metadata": {},
   "source": [
    "**Question** - The odds associated with a probability, p, are defined as? The probability that a manuscript gets accepted to a journal is 12% (say). However, given\n",
    "that a revision is asked for, the probability that it gets accepted is 90%. Is it possible that the\n",
    "probability that a manuscript has a revision asked for is 20%?"
   ]
  },
  {
   "cell_type": "code",
   "execution_count": null,
   "metadata": {
    "collapsed": true
   },
   "outputs": [],
   "source": []
  },
  {
   "cell_type": "markdown",
   "metadata": {},
   "source": [
    "**Question** - The odds associated with a probability, p, are defined as? Suppose 5% of housing projects have issues with asbestos. The sensitivity of a test for asbestos\n",
    "is 93% and the specificity is 88%. What is the probability that a housing project has no asbestos\n",
    "given a negative test expressed as a percentage to the nearest percentage point?"
   ]
  },
  {
   "cell_type": "code",
   "execution_count": null,
   "metadata": {
    "collapsed": true
   },
   "outputs": [],
   "source": []
  },
  {
   "cell_type": "markdown",
   "metadata": {},
   "source": [
    "# Expected Values"
   ]
  },
  {
   "cell_type": "markdown",
   "metadata": {},
   "source": [
    "**Question** - A standard die takes the values 1, 2, 3, 4, 5, 6 with equal probability. What is the expected\n",
    "value?"
   ]
  },
  {
   "cell_type": "code",
   "execution_count": null,
   "metadata": {
    "collapsed": true
   },
   "outputs": [],
   "source": []
  },
  {
   "cell_type": "markdown",
   "metadata": {},
   "source": [
    "**Question** - Consider a density that is uniform from -1 to 1. (I.e. has height equal to 1/2 and looks like a\n",
    "box starting at -1 and ending at 1). What is the mean of this distribution?"
   ]
  },
  {
   "cell_type": "code",
   "execution_count": null,
   "metadata": {
    "collapsed": true
   },
   "outputs": [],
   "source": []
  },
  {
   "cell_type": "markdown",
   "metadata": {},
   "source": [
    "**Question** - If a population has mean u, what is the mean of the distribution of averages of 20 observations\n",
    "from this distribution?"
   ]
  },
  {
   "cell_type": "code",
   "execution_count": null,
   "metadata": {
    "collapsed": true
   },
   "outputs": [],
   "source": []
  },
  {
   "cell_type": "markdown",
   "metadata": {},
   "source": [
    "**Question** - You are playing a game with a friend where you flip a coin and if it comes up heads you give\n",
    "her X dollars and if it comes up tails she gives you $Y$ dollars. The odds that the coin is heads\n",
    "is d. What is your expected earnings?"
   ]
  },
  {
   "cell_type": "code",
   "execution_count": null,
   "metadata": {
    "collapsed": true
   },
   "outputs": [],
   "source": []
  },
  {
   "cell_type": "markdown",
   "metadata": {},
   "source": [
    "**Question** - If you roll ten standard dice, take their average, then repeat this process over and over and\n",
    "construct a histogram what would it be centered at?"
   ]
  },
  {
   "cell_type": "code",
   "execution_count": null,
   "metadata": {
    "collapsed": true
   },
   "outputs": [],
   "source": []
  },
  {
   "cell_type": "markdown",
   "metadata": {},
   "source": [
    "# Variation"
   ]
  },
  {
   "cell_type": "markdown",
   "metadata": {},
   "source": [
    "**Question** - If I have a random sample from a population, the sample variance is an estimate of?\n",
    "1. The population standard deviation.\n",
    "2. The population variance.\n",
    "3. The sample variance.\n",
    "4. The sample standard deviation.="
   ]
  },
  {
   "cell_type": "code",
   "execution_count": null,
   "metadata": {
    "collapsed": true
   },
   "outputs": [],
   "source": []
  },
  {
   "cell_type": "markdown",
   "metadata": {},
   "source": [
    "**Question** - The distribution of the sample variance of a random sample from a population is centered at\n",
    "what?\n",
    "1. The population variance.\n",
    "2. The population mean."
   ]
  },
  {
   "cell_type": "code",
   "execution_count": null,
   "metadata": {
    "collapsed": true
   },
   "outputs": [],
   "source": []
  },
  {
   "cell_type": "markdown",
   "metadata": {},
   "source": [
    "**Question** - I keep drawing samples of size n from a population with variance \u001b2 and taking their average.\n",
    "I do this thousands of times. If I were to take the variance of the collection of averages, about\n",
    "what would it be?"
   ]
  },
  {
   "cell_type": "code",
   "execution_count": null,
   "metadata": {
    "collapsed": true
   },
   "outputs": [],
   "source": []
  },
  {
   "cell_type": "markdown",
   "metadata": {},
   "source": [
    "**Question** - You get a random sample of **n** observations from a population and take their average. You\n",
    "would like to estimate the variability of averages of **n** observations from this population\n",
    "to better understand how precise of an estimate it is. Do you need to repeated collect averages\n",
    "to do this?\n",
    "\n",
    "1. No, we can multiply our estimate of the population variance by 1/n to get a good estimate of the variability of the average.\n",
    "2. Yes, you have to get repeat averages."
   ]
  },
  {
   "cell_type": "code",
   "execution_count": null,
   "metadata": {
    "collapsed": true
   },
   "outputs": [],
   "source": []
  },
  {
   "cell_type": "markdown",
   "metadata": {},
   "source": [
    "**Question** - A random variable takes the value -4 with probability .2 and 1 with probability .8. What is\n",
    "the variance of this random variable?"
   ]
  },
  {
   "cell_type": "code",
   "execution_count": null,
   "metadata": {
    "collapsed": true
   },
   "outputs": [],
   "source": []
  },
  {
   "cell_type": "markdown",
   "metadata": {},
   "source": [
    "**Question** - Let X be a random variable having standard deviation \u001b. What can be said about the variance\n",
    "of X/\u001bo?"
   ]
  },
  {
   "cell_type": "code",
   "execution_count": null,
   "metadata": {
    "collapsed": true
   },
   "outputs": [],
   "source": []
  },
  {
   "cell_type": "markdown",
   "metadata": {},
   "source": [
    "**Question** - If you roll ten standard dice, take their average, then repeat this process over and over and\n",
    "construct a histogram, what would be its variance expressed to 3 decimal places?"
   ]
  },
  {
   "cell_type": "code",
   "execution_count": null,
   "metadata": {
    "collapsed": true
   },
   "outputs": [],
   "source": []
  },
  {
   "cell_type": "markdown",
   "metadata": {},
   "source": [
    "# Common Distributions"
   ]
  },
  {
   "cell_type": "markdown",
   "metadata": {},
   "source": [
    "**Question** -  Your friend claims that changing the font to comic sans will result in more ad revenue on your\n",
    "web sites. When presented in random order, 9 pages out of 10 had more revenue when the\n",
    "font was set to comic sans. If it was really a coin flip for these 10 sites, what’s the probability\n",
    "of getting 9 or 10 out of 10 with more revenue for the new font?"
   ]
  },
  {
   "cell_type": "code",
   "execution_count": null,
   "metadata": {
    "collapsed": true
   },
   "outputs": [],
   "source": []
  },
  {
   "cell_type": "markdown",
   "metadata": {},
   "source": [
    "**Question** - A software company is doing an analysis of documentation errors of their products. They\n",
    "sampled their very large codebase in chunks and found that the number of errors per chunk\n",
    "was approximately normally distributed with a mean of 11 errors and a standard deviation of"
   ]
  },
  {
   "cell_type": "code",
   "execution_count": null,
   "metadata": {
    "collapsed": true
   },
   "outputs": [],
   "source": []
  },
  {
   "cell_type": "markdown",
   "metadata": {},
   "source": [
    "**Question** - When randomly selecting a chunk from their codebase, whats the probability of fewer than\n",
    "5 documentation errors?"
   ]
  },
  {
   "cell_type": "code",
   "execution_count": null,
   "metadata": {
    "collapsed": true
   },
   "outputs": [],
   "source": []
  },
  {
   "cell_type": "markdown",
   "metadata": {},
   "source": [
    "**Question** - The number of search entries entered at a web site is Poisson at a rate of 9 searches per minute.\n",
    "The site is monitored for 5 minutes. What is the probability of 40 or fewer searches in that\n",
    "time frame?"
   ]
  },
  {
   "cell_type": "code",
   "execution_count": null,
   "metadata": {
    "collapsed": true
   },
   "outputs": [],
   "source": []
  },
  {
   "cell_type": "markdown",
   "metadata": {},
   "source": [
    "**Question** - Suppose that the number of web hits to a particular site are approximately normally\n",
    "distributed with a mean of 100 hits per day and a standard deviation of 10 hits per day. What’s\n",
    "the probability that a given day has fewer than 93 hits per day expressed as a percentage to\n",
    "the nearest percentage point?"
   ]
  },
  {
   "cell_type": "code",
   "execution_count": null,
   "metadata": {
    "collapsed": true
   },
   "outputs": [],
   "source": []
  },
  {
   "cell_type": "markdown",
   "metadata": {},
   "source": [
    "**Question** - Suppose that the number of web hits to a particular site are approximately normally\n",
    "distributed with a mean of 100 hits per day and a standard deviation of 10 hits per day. What\n",
    "number of web hits per day represents the number so that only 5% of days have more hits?"
   ]
  },
  {
   "cell_type": "code",
   "execution_count": null,
   "metadata": {
    "collapsed": true
   },
   "outputs": [],
   "source": []
  },
  {
   "cell_type": "markdown",
   "metadata": {},
   "source": [
    "**Question** - Suppose that the number of web hits to a particular site are approximately normally\n",
    "distributed with a mean of 100 hits per day and a standard deviation of 10 hits per day. Imagine\n",
    "taking a random sample of 50 days. What number of web hits would be the point so that only\n",
    "5% of averages of 50 days of web traffic have more hits?"
   ]
  },
  {
   "cell_type": "code",
   "execution_count": null,
   "metadata": {
    "collapsed": true
   },
   "outputs": [],
   "source": []
  },
  {
   "cell_type": "markdown",
   "metadata": {},
   "source": [
    "**Question** - You don’t believe that your friend can discern good wine from cheap. Assuming that you’re\n",
    "right, in a blind test where you randomize 6 paired varieties (Merlot, Chianti, …) of cheap and\n",
    "expensive wines. What is the change that she gets 5 or 6 right?"
   ]
  },
  {
   "cell_type": "code",
   "execution_count": null,
   "metadata": {
    "collapsed": true
   },
   "outputs": [],
   "source": []
  },
  {
   "cell_type": "markdown",
   "metadata": {},
   "source": [
    "**Question** - The number of web hits to a site is Poisson with mean 16.5 per day. What is the probability of\n",
    "getting 20 or fewer in 2 days?"
   ]
  },
  {
   "cell_type": "code",
   "execution_count": null,
   "metadata": {
    "collapsed": true
   },
   "outputs": [],
   "source": []
  },
  {
   "cell_type": "markdown",
   "metadata": {},
   "source": [
    "# Asymptopia"
   ]
  },
  {
   "cell_type": "markdown",
   "metadata": {},
   "source": [
    "**Question** - I simulate 1,000,000 standard normals. The LLN says that their sample average must be close\n",
    "to?"
   ]
  },
  {
   "cell_type": "code",
   "execution_count": null,
   "metadata": {
    "collapsed": true
   },
   "outputs": [],
   "source": []
  },
  {
   "cell_type": "markdown",
   "metadata": {},
   "source": [
    "**Question** - About what is the probability of getting 45 or fewer heads out 100 flips of a fair coin? (Use the\n",
    "CLT, not the exact binomial calculation)."
   ]
  },
  {
   "cell_type": "code",
   "execution_count": null,
   "metadata": {
    "collapsed": true
   },
   "outputs": [],
   "source": []
  },
  {
   "cell_type": "markdown",
   "metadata": {},
   "source": [
    "**Question** - Consider the [Galton's Height Data](http://www.math.uah.edu/stat/data/Galton.html). Using the CLT and assuming that the fathers are a random sample from a population of interest, what is a 95% confidence mean height in inches?"
   ]
  },
  {
   "cell_type": "code",
   "execution_count": null,
   "metadata": {
    "collapsed": true
   },
   "outputs": [],
   "source": []
  },
  {
   "cell_type": "markdown",
   "metadata": {},
   "source": [
    "**Question** - The goal of a a confidence interval having coverage 95% is to imply that:\n",
    "1. If one were to repeated collect samples and reconstruct the intervals, around 95% percent\n",
    "of them would contain the true mean being estimated.\n",
    "2. The probability that the sample mean is in the interval is 95%."
   ]
  },
  {
   "cell_type": "code",
   "execution_count": null,
   "metadata": {
    "collapsed": true
   },
   "outputs": [],
   "source": []
  },
  {
   "cell_type": "markdown",
   "metadata": {},
   "source": [
    "**Question** - The rate of search entries into a web site was 10 per minute when monitoring for an hour. Use\n",
    "Python to calculate the exact Poisson interval for the rate of events per minute?"
   ]
  },
  {
   "cell_type": "code",
   "execution_count": null,
   "metadata": {
    "collapsed": true
   },
   "outputs": [],
   "source": []
  },
  {
   "cell_type": "markdown",
   "metadata": {},
   "source": [
    "**Question** - Consider a uniform distribution. If we were to sample 100 draws from a a uniform distribution\n",
    "(which has mean 0.5, and variance 1/12) and take their mean, X(bar). What is the approximate\n",
    "probability of getting as large as 0.51 or larger?"
   ]
  },
  {
   "cell_type": "code",
   "execution_count": null,
   "metadata": {
    "collapsed": true
   },
   "outputs": [],
   "source": []
  },
  {
   "cell_type": "markdown",
   "metadata": {},
   "source": [
    "# t Confidence Intervals"
   ]
  },
  {
   "cell_type": "markdown",
   "metadata": {},
   "source": [
    "**Question** - Paired differences T confidence intervals are useful when:\n",
    "1. Pairs of observations are linked, such as when there is subject level matching or in a\n",
    "study with baseline and follow up measurements on all participants.\n",
    "2. When there was randomization of a treatment between two independent groups.\n",
    "\n"
   ]
  },
  {
   "cell_type": "code",
   "execution_count": null,
   "metadata": {
    "collapsed": true
   },
   "outputs": [],
   "source": []
  },
  {
   "cell_type": "markdown",
   "metadata": {},
   "source": [
    "**Question** - The assumption that the variances are equal for the independent group T interval means that:\n",
    "1. The sample variances have to be nearly identical.\n",
    "2. The population variances are identical, but the sample variances may be different."
   ]
  },
  {
   "cell_type": "code",
   "execution_count": null,
   "metadata": {
    "collapsed": true
   },
   "outputs": [],
   "source": []
  },
  {
   "cell_type": "markdown",
   "metadata": {},
   "source": [
    "**Question** - Load the data set mtcars in the from the ggplot module. Calculate a 95% confidence interval to\n",
    "the nearest MPG for the variable mpg."
   ]
  },
  {
   "cell_type": "code",
   "execution_count": null,
   "metadata": {
    "collapsed": true
   },
   "outputs": [],
   "source": []
  },
  {
   "cell_type": "markdown",
   "metadata": {},
   "source": [
    "**Question** - Suppose that standard deviation of 9 paired differences is $1$. What value would the average\n",
    "difference have to be so that the lower endpoint of a 95% students t confidence interval touches\n",
    "zero?"
   ]
  },
  {
   "cell_type": "code",
   "execution_count": null,
   "metadata": {
    "collapsed": true
   },
   "outputs": [],
   "source": []
  },
  {
   "cell_type": "markdown",
   "metadata": {},
   "source": [
    "**Question** - An independent group Student’s T interval is used instead of a paired T interval when:\n",
    "1. The observations are paired between the groups.\n",
    "2. The observations between the groups are naturally assumed to be statistically independent.\n",
    "3. As long as you do it correctly, either is fine.\n",
    "4. More details are needed to answer this question."
   ]
  },
  {
   "cell_type": "code",
   "execution_count": null,
   "metadata": {
    "collapsed": true
   },
   "outputs": [],
   "source": []
  },
  {
   "cell_type": "markdown",
   "metadata": {},
   "source": [
    "**Question** - Consider the mtcars dataset. Construct a 95% T interval for MPG comparing 4 to 6 cylinder\n",
    "cars (subtracting in the order of 4 - 6) assume a constant variance."
   ]
  },
  {
   "cell_type": "code",
   "execution_count": null,
   "metadata": {
    "collapsed": true
   },
   "outputs": [],
   "source": []
  },
  {
   "cell_type": "markdown",
   "metadata": {},
   "source": [
    "**Question** - If someone put a gun to your head and said “Your confidence interval must contain what it’s\n",
    "estimating or I’ll pull the trigger”, what would be the smart thing to do?\n",
    "1. Make your interval as wide as possible.\n",
    "2. Make your interval as small as possible.\n",
    "3. Call the authorities. "
   ]
  },
  {
   "cell_type": "code",
   "execution_count": null,
   "metadata": {
    "collapsed": true
   },
   "outputs": [],
   "source": []
  },
  {
   "cell_type": "markdown",
   "metadata": {},
   "source": [
    "**Question** - Refer back to comparing MPG for 4 versus 6 cylinders. What do you conclude?\n",
    "1. The interval is above zero, suggesting 6 is better than 4 in the terms of MPG.\n",
    "2. The interval is above zero, suggesting 4 is better than 6 in the terms of MPG.\n",
    "3. The interval does not tell you anything about the hypothesis test; you have to do the\n",
    "test.\n",
    "4. The interval contains 0 suggesting no difference.\n",
    "\n"
   ]
  },
  {
   "cell_type": "code",
   "execution_count": null,
   "metadata": {
    "collapsed": true
   },
   "outputs": [],
   "source": []
  },
  {
   "cell_type": "markdown",
   "metadata": {},
   "source": [
    "**Question** - Suppose that 18 obese subjects were randomized, 9 each, to a new diet pill and a placebo.\n",
    "Subjects’ body mass indices (BMIs) were measured at a baseline and again after having\n",
    "received the treatment or placebo for four weeks. The average difference from follow-up to\n",
    "the baseline (followup - baseline) was 3 kg/m^2 for the treated group and 1 kg/m^2 for the\n",
    "placebo group. The corresponding standard deviations of the differences was 1.5 kg/m^2 for\n",
    "the treatment group and 1.8 kg/m^2 for the placebo group. The study aims to answer whether\n",
    "the change in BMI over the four week period appear to differ between the treated and placebo\n",
    "groups. What is the pooled variance estimate? "
   ]
  },
  {
   "cell_type": "code",
   "execution_count": null,
   "metadata": {
    "collapsed": true
   },
   "outputs": [],
   "source": []
  },
  {
   "cell_type": "markdown",
   "metadata": {},
   "source": [
    "# Hypothesis Testing"
   ]
  },
  {
   "cell_type": "markdown",
   "metadata": {},
   "source": [
    "**Question** - Which hypothesis is typically assumed to be true in hypothesis testing?\n",
    "1. The null.\n",
    "2. The alternative."
   ]
  },
  {
   "cell_type": "code",
   "execution_count": null,
   "metadata": {
    "collapsed": true
   },
   "outputs": [],
   "source": []
  },
  {
   "cell_type": "markdown",
   "metadata": {},
   "source": [
    "**Question** - The type I error rate controls what?"
   ]
  },
  {
   "cell_type": "code",
   "execution_count": null,
   "metadata": {
    "collapsed": true
   },
   "outputs": [],
   "source": []
  },
  {
   "cell_type": "markdown",
   "metadata": {},
   "source": [
    "**Question** - Load the data set `mtcars` in the ggplot module. Assume that the data set mtcars is a\n",
    "random sample. Compute the mean MPG, x(bar); of this sample. You want to test whether the true\n",
    "MPG is mu(knot) or smaller using a one sided 5% level test. (H0 : mu = mu(knot) versus Ha : mu < mu(knot)).\n",
    "Using that data set and a Z test: Based on the mean MPG of the sample x(bar); and by using a Z\n",
    "test: what is the smallest value of mu(knot) that you would reject for (to two decimal places)?"
   ]
  },
  {
   "cell_type": "code",
   "execution_count": null,
   "metadata": {
    "collapsed": true
   },
   "outputs": [],
   "source": []
  },
  {
   "cell_type": "markdown",
   "metadata": {},
   "source": [
    "**Question** - Consider again the `mtcars` dataset. Use a two group t-test to test the hypothesis that the 4 and\n",
    "6 cyl cars have the same mpg. Use a two sided test with unequal variances. Do you reject?"
   ]
  },
  {
   "cell_type": "code",
   "execution_count": null,
   "metadata": {
    "collapsed": true
   },
   "outputs": [],
   "source": []
  },
  {
   "cell_type": "markdown",
   "metadata": {},
   "source": [
    "**Question** - A sample of 100 men yielded an average [PSA](https://www.cancer.gov/types/prostate/psa-fact-sheet) level of 3.0 with a sd of 1.1. What are the complete set of values that a 5% two sided Z test of H0 : mu = mu(knot) would fail to reject the null hypothesis for? "
   ]
  },
  {
   "cell_type": "code",
   "execution_count": null,
   "metadata": {
    "collapsed": true
   },
   "outputs": [],
   "source": []
  },
  {
   "cell_type": "markdown",
   "metadata": {},
   "source": [
    "**Question** - You believe the coin that you’re flipping is biased towards heads. You get 55 heads out of 100\n",
    "flips. Do you reject at the 5% level that the coin is fair?"
   ]
  },
  {
   "cell_type": "code",
   "execution_count": null,
   "metadata": {
    "collapsed": true
   },
   "outputs": [],
   "source": []
  },
  {
   "cell_type": "markdown",
   "metadata": {},
   "source": [
    "**Question** - Suppose that in an AB test, one advertising scheme led to an average of 10 purchases per day\n",
    "for a sample of 100 days, while the other led to 11 purchases per day, also for a sample of\n",
    "100 days. Assuming a common standard deviation of 4 purchases per day. Assuming that the\n",
    "groups are independent and that they days are iid, perform a Z test of equivalence. Do you\n",
    "reject at the 5% level? "
   ]
  },
  {
   "cell_type": "code",
   "execution_count": null,
   "metadata": {
    "collapsed": true
   },
   "outputs": [],
   "source": []
  },
  {
   "cell_type": "markdown",
   "metadata": {},
   "source": [
    "**Question** - A confidence interval for the mean contains:\n",
    "1. All of the values of the hypothesized mean for which we would fail to reject with alpha = 1 - Confidence Interval.\n",
    "\n",
    "2. All of the values of the hypothesized mean for which we would fail to reject with 2 * alpha = 1 - Confidence Interval.\n",
    "\n",
    "3. All of the values of the hypothesized mean for which we would reject with alpha = 1 - Confidence Interval.\n",
    "\n",
    "4. All of the values of the hypothesized mean for which we would reject with 2 * alpha = 1 - Confidence Interval.\n"
   ]
  },
  {
   "cell_type": "code",
   "execution_count": null,
   "metadata": {
    "collapsed": true
   },
   "outputs": [],
   "source": []
  },
  {
   "cell_type": "markdown",
   "metadata": {},
   "source": [
    "**Question** - In a court of law, all things being equal, if via policy you require a lower standard of evidence\n",
    "to convict people then\n",
    "1 Less guilty people will be convicted.\n",
    "2. More innocent people will be convicted.\n",
    "3. More Innocent people will be not convicted."
   ]
  },
  {
   "cell_type": "code",
   "execution_count": null,
   "metadata": {
    "collapsed": true
   },
   "outputs": [],
   "source": []
  },
  {
   "cell_type": "markdown",
   "metadata": {},
   "source": [
    "# P-values"
   ]
  },
  {
   "cell_type": "markdown",
   "metadata": {},
   "source": [
    "**Question** - P-values are probabilities that are calculated assuming which hypothesis is true?\n",
    "1. the alternative\n",
    "2. the null"
   ]
  },
  {
   "cell_type": "code",
   "execution_count": null,
   "metadata": {
    "collapsed": true
   },
   "outputs": [],
   "source": []
  },
  {
   "cell_type": "markdown",
   "metadata": {},
   "source": [
    "**Question** - You get a P-value of 0.06. Would you reject for a type I error rate of 0.05?\n",
    "1. Yes you would reject the null\n",
    "2. No you would not reject the null\n",
    "3. It depends on information not given"
   ]
  },
  {
   "cell_type": "code",
   "execution_count": null,
   "metadata": {
    "collapsed": true
   },
   "outputs": [],
   "source": []
  },
  {
   "cell_type": "markdown",
   "metadata": {},
   "source": [
    "**Question** - The proposed procedure for getting a two sided P-value for the exact binomial test considered\n",
    "here is what?\n",
    "1. Multiplying the one sided P-value by one half\n",
    "2. Doubling the larger of the two one sided P-values\n",
    "3. Doubling the smaller of the two one sided P-values\n",
    "4. No procedure exists"
   ]
  },
  {
   "cell_type": "code",
   "execution_count": null,
   "metadata": {
    "collapsed": true
   },
   "outputs": [],
   "source": []
  },
  {
   "cell_type": "markdown",
   "metadata": {},
   "source": [
    "**Question** - Consider again the `mtcars` dataset. Use a two group t-test to test the hypothesis that the 4 and\n",
    "6 cyl cars have the same mpg. Use a two sided test with unequal variances. Give a P-value."
   ]
  },
  {
   "cell_type": "code",
   "execution_count": null,
   "metadata": {
    "collapsed": true
   },
   "outputs": [],
   "source": []
  },
  {
   "cell_type": "markdown",
   "metadata": {},
   "source": [
    "**Question** - You believe the coin that you’re flipping is biased towards heads. You get 55 heads out of 100\n",
    "flips. Give an exact P-value for the hypothesis that the coin is fair."
   ]
  },
  {
   "cell_type": "code",
   "execution_count": null,
   "metadata": {
    "collapsed": true
   },
   "outputs": [],
   "source": []
  },
  {
   "cell_type": "markdown",
   "metadata": {},
   "source": [
    "**Question** - A web site was monitored for a year and it received 520 hits per day. In the first 30 days in the\n",
    "next year, the site received 15,800 hits. Assuming that web hits are Poisson. Give an exact one\n",
    "sided P-value to the hypothesis that web hits are up this year over last. Do you reject? "
   ]
  },
  {
   "cell_type": "code",
   "execution_count": null,
   "metadata": {
    "collapsed": true
   },
   "outputs": [],
   "source": []
  },
  {
   "cell_type": "markdown",
   "metadata": {},
   "source": [
    "**Question** - Suppose that in an AB test, one advertising scheme led to an average of 10 purchases per day\n",
    "for a sample of 100 days, while the other led to 11 purchases per day, also for a sample of\n",
    "100 days. Assuming a common standard deviation of 4 purchases per day. Assuming that the\n",
    "groups are independent and that they days are iid, perform a Z test of equivalence. Give a\n",
    "P-value for the test? "
   ]
  },
  {
   "cell_type": "code",
   "execution_count": null,
   "metadata": {
    "collapsed": true
   },
   "outputs": [],
   "source": []
  },
  {
   "cell_type": "markdown",
   "metadata": {},
   "source": [
    "**Question** - Consider the `mtcars` data set.\n",
    "1. Give the p-value for a t-test comparing MPG for 6 and 8 cylinder cars assuming equal\n",
    "variance, as a proportion to 3 decimal places.\n",
    "2. Give the associated P-value for a z test.\n",
    "3. Give the common standard deviation estimate for MPG across cylinders to 3 decimal\n",
    "places.\n",
    "4. Would the t test reject at the two sided 0.05 level (0 for no 1 for yes)?"
   ]
  },
  {
   "cell_type": "code",
   "execution_count": null,
   "metadata": {
    "collapsed": true
   },
   "outputs": [],
   "source": []
  }
 ],
 "metadata": {
  "anaconda-cloud": {},
  "kernelspec": {
   "display_name": "Python [default]",
   "language": "python",
   "name": "python3"
  },
  "language_info": {
   "codemirror_mode": {
    "name": "ipython",
    "version": 3
   },
   "file_extension": ".py",
   "mimetype": "text/x-python",
   "name": "python",
   "nbconvert_exporter": "python",
   "pygments_lexer": "ipython3",
   "version": "3.5.2"
  }
 },
 "nbformat": 4,
 "nbformat_minor": 1
}
