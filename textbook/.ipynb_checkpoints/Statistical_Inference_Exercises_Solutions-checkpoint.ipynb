{
 "cells": [
  {
   "cell_type": "markdown",
   "metadata": {},
   "source": [
    "# Statistical Inference Exercise Solutions"
   ]
  },
  {
   "cell_type": "markdown",
   "metadata": {},
   "source": [
    "# Introduction"
   ]
  },
  {
   "cell_type": "markdown",
   "metadata": {},
   "source": [
    "**Question** - The goal of statistical inference is to? \n",
    "1. Infer facts about a population from a sample.\n",
    "2. Infer facts about the sample from a population.\n",
    "3. Calculate sample quantities to understand your data.\n",
    "4. To torture Data Science students."
   ]
  },
  {
   "cell_type": "markdown",
   "metadata": {
    "collapsed": true
   },
   "source": [
    "1"
   ]
  },
  {
   "cell_type": "markdown",
   "metadata": {},
   "source": [
    "**Question** - The goal of randomization of a treatment in a randomized trial is to?\n",
    "1. It doesn’t really do anything.\n",
    "2. To obtain a representative sample of subjects from the population of interest.\n",
    "3. Balance unobserved covariates that may contaminate the comparison between the\n",
    "    treated and control groups.\n",
    "4. To add variation to our conclusions.\n"
   ]
  },
  {
   "cell_type": "markdown",
   "metadata": {
    "collapsed": true
   },
   "source": [
    "3"
   ]
  },
  {
   "cell_type": "markdown",
   "metadata": {},
   "source": [
    "**Question** - Probability is a?\n",
    "1. Population quantity that we can potentially estimate from data.\n",
    "2. A data quantity that does not require the idea of a population."
   ]
  },
  {
   "cell_type": "markdown",
   "metadata": {
    "collapsed": false
   },
   "source": [
    "1"
   ]
  },
  {
   "cell_type": "markdown",
   "metadata": {},
   "source": [
    "# Probability"
   ]
  },
  {
   "cell_type": "markdown",
   "metadata": {},
   "source": [
    "**Question** - Can you add the probabilities of any two events to get the probability of at least one occurring?"
   ]
  },
  {
   "cell_type": "markdown",
   "metadata": {
    "collapsed": true
   },
   "source": [
    "Yes if they are mutually exclusive."
   ]
  },
  {
   "cell_type": "markdown",
   "metadata": {},
   "source": [
    "**Question** -  I define a PMF, p so that for x = 0 and x = 1 we have p(0) = -0.1 and p(1) = 1.1. Is this a\n",
    "valid PMF?"
   ]
  },
  {
   "cell_type": "markdown",
   "metadata": {
    "collapsed": true
   },
   "source": [
    "No.  For a valid PMF p(x) must be greater than or equal to 0 for all x.\n",
    "\n",
    "$p(x) \\ge 0$ for all x."
   ]
  },
  {
   "cell_type": "markdown",
   "metadata": {},
   "source": [
    "**Question** -  What is the probability that 75% or fewer calls get answered in a randomly sampled day from\n",
    "the population distribution from this chapter?"
   ]
  },
  {
   "cell_type": "markdown",
   "metadata": {},
   "source": [
    "$p(x < 0.75) = \\int_0^{0.75}2x dx = 0.75^2 = 0.5625 $"
   ]
  },
  {
   "cell_type": "markdown",
   "metadata": {},
   "source": [
    "Or exploiting the fact that it is a triangle:"
   ]
  },
  {
   "cell_type": "code",
   "execution_count": 7,
   "metadata": {
    "collapsed": false
   },
   "outputs": [
    {
     "data": {
      "text/plain": [
       "0.5625"
      ]
     },
     "execution_count": 7,
     "metadata": {},
     "output_type": "execute_result"
    }
   ],
   "source": [
    "1.5 * 0.75 * 0.5"
   ]
  },
  {
   "cell_type": "markdown",
   "metadata": {},
   "source": [
    "**Question** -  The 97.5th percentile of a distribution is?"
   ]
  },
  {
   "cell_type": "markdown",
   "metadata": {
    "collapsed": true
   },
   "source": [
    "The probability of a random sample being less than or equal to 0.975.\n",
    "\n",
    "$p(x \\le 0.975)$"
   ]
  },
  {
   "cell_type": "markdown",
   "metadata": {},
   "source": [
    "**Question** -  Consider influenza epidemics for two parent heterosexual families. Suppose that the probability\n",
    "is 15% that at least one of the parents has contracted the disease. The probability that the\n",
    "father has contracted influenza is 10% while that the mother contracted the disease is 9%. What\n",
    "is the probability that both contracted influenza expressed as a whole number percentage?"
   ]
  },
  {
   "cell_type": "markdown",
   "metadata": {
    "collapsed": true
   },
   "source": [
    "$P(A\\cup B) = P(A) + P(B) - P(A\\cap B)$ thus $$0.15 = 0.10 + 0.09 - P(A\\cap B)$$\n",
    "\n",
    "0.10 + 0.09 - 0.15 = 0.04"
   ]
  },
  {
   "cell_type": "markdown",
   "metadata": {},
   "source": [
    "**Question** -  A random variable, X, is uniform, a box from 0 to 1 of height 1. (So that it’s density is f(x) = 1\n",
    "for 0 <= x <= 1.) What is it’s median expressed to two decimal places?"
   ]
  },
  {
   "cell_type": "markdown",
   "metadata": {
    "collapsed": true
   },
   "source": [
    "The median is the same as the 50th percentile so,\n",
    "\n",
    "$p(X \\le 0.5) = \\int_0^{a} dx$ = a - 0 = 0.5\n",
    "\n",
    "This density looks like a box. So, notice that $P(X \\leq x) = width\\times height = x$. We want $.5 = P(X\\leq x) = x$."
   ]
  },
  {
   "cell_type": "markdown",
   "metadata": {},
   "source": [
    "**Question** -  If a continuous density that never touches the horizontal axis is symmetric about zero, can\n",
    "we say that its associated median is zero?"
   ]
  },
  {
   "cell_type": "markdown",
   "metadata": {},
   "source": [
    "Yes.\n",
    "\n",
    "This is a surprisingly hard problem. The easy explanation is that 50% of the probability is below 0 and 50% is above so yes. However, it is predicated on the density not being a flat line at 0 around 0. That's why the caveat that it never touches the horizontal axis is important.\n",
    "\n",
    "$p(x) = p(-x)$ for all x, and since $\\int_{-\\infty}^{\\infty} p(x)dx = 1$ then it follows that $\\int_{-\\infty}^{0}p(x)dx = \\int_0^{\\infty}p(x)dx = \\frac{1}{2} $"
   ]
  },
  {
   "cell_type": "markdown",
   "metadata": {},
   "source": [
    "# Conditional Probability"
   ]
  },
  {
   "cell_type": "markdown",
   "metadata": {},
   "source": [
    "**Question** - The odds associated with a probability, p, are defined as? I pull a card from a deck and do not show you the result. I say that the resulting card is a\n",
    "heart. What is the probability that it is the queen of hearts?"
   ]
  },
  {
   "cell_type": "markdown",
   "metadata": {
    "collapsed": true
   },
   "source": [
    "1/13 since it is already known to be a heart (unless I am a liar of course)."
   ]
  },
  {
   "cell_type": "markdown",
   "metadata": {},
   "source": [
    "**Question** - The odds associated with a probability, p, are defined as?"
   ]
  },
  {
   "cell_type": "markdown",
   "metadata": {
    "collapsed": true
   },
   "source": [
    "$Odds = \\frac{p}{1 - p}$"
   ]
  },
  {
   "cell_type": "markdown",
   "metadata": {},
   "source": [
    "**Question** - The probability of getting two sixes when rolling a pair of dice is?"
   ]
  },
  {
   "cell_type": "markdown",
   "metadata": {
    "collapsed": true
   },
   "source": [
    "Let A be prob of dice A landing 6 and B be prob of dice B landing 6.  Since A and B are independent, then\n",
    "\n",
    "$P(A \\cup B) = P(A)P(B) = \\frac{1}{6}\\frac{1}{6} = 0.028$"
   ]
  },
  {
   "cell_type": "markdown",
   "metadata": {},
   "source": [
    "**Question** - The probability that a manuscript gets accepted to a journal is 12% (say). However, given\n",
    "that a revision is asked for, the probability that it gets accepted is 90%. Is it possible that the\n",
    "probability that a manuscript has a revision asked for is 20%?"
   ]
  },
  {
   "cell_type": "markdown",
   "metadata": {
    "collapsed": true
   },
   "source": [
    "P(A∩B)=P(A|B)∗P(B)=.9×.2=.18 this is larger than P(A)=.12, which is not possible since A∩B⊂A"
   ]
  },
  {
   "cell_type": "markdown",
   "metadata": {},
   "source": [
    "**Question** - Suppose 5% of housing projects have issues with asbestos. The sensitivity of a test for asbestos\n",
    "is 93% and the specificity is 88%. What is the probability that a housing project has no asbestos\n",
    "given a negative test expressed as a percentage to the nearest percentage point?"
   ]
  },
  {
   "cell_type": "markdown",
   "metadata": {
    "collapsed": true
   },
   "source": [
    "$P(A^c|T-)=\\frac{P(T−|A^c)P(A^c)}{P(T−|A^c)P(A^c)+P(T−|A)P(A)}$"
   ]
  },
  {
   "cell_type": "code",
   "execution_count": 13,
   "metadata": {
    "collapsed": false
   },
   "outputs": [
    {
     "data": {
      "text/plain": [
       "0.995830851697439"
      ]
     },
     "execution_count": 13,
     "metadata": {},
     "output_type": "execute_result"
    }
   ],
   "source": [
    "(.88 * .95) / (.88 * .95 + .07 * .05)"
   ]
  },
  {
   "cell_type": "markdown",
   "metadata": {},
   "source": [
    "# Expected Values"
   ]
  },
  {
   "cell_type": "markdown",
   "metadata": {},
   "source": [
    "**Question** - A standard die takes the values 1, 2, 3, 4, 5, 6 with equal probability. What is the expected\n",
    "value?"
   ]
  },
  {
   "cell_type": "markdown",
   "metadata": {
    "collapsed": true
   },
   "source": [
    "$E[X] = \\sum_{i=1}^{n} x_i p(x_i) = \\frac{1}{6}(1 + 2 + 3 + 4 + 5 + 6) = \\frac{21}{6} = 3.5$"
   ]
  },
  {
   "cell_type": "markdown",
   "metadata": {},
   "source": [
    "**Question** - Consider a density that is uniform from -1 to 1. (I.e. has height equal to 1/2 and looks like a\n",
    "box starting at -1 and ending at 1). What is the mean of this distribution?"
   ]
  },
  {
   "cell_type": "markdown",
   "metadata": {
    "collapsed": true
   },
   "source": [
    "Since it is symetric about the vertical axis, the mean is 0."
   ]
  },
  {
   "cell_type": "markdown",
   "metadata": {},
   "source": [
    "**Question** - If a population has mean u, what is the mean of the distribution of averages of 20 observations\n",
    "from this distribution?"
   ]
  },
  {
   "cell_type": "markdown",
   "metadata": {
    "collapsed": true
   },
   "source": [
    "u"
   ]
  },
  {
   "cell_type": "markdown",
   "metadata": {},
   "source": [
    "**Question** - You are playing a game with a friend where you flip a coin and if it comes up heads you give\n",
    "her X dollars and if it comes up tails she gives you $Y$ dollars. The odds that the coin is heads\n",
    "is d. What is your expected earnings?"
   ]
  },
  {
   "cell_type": "markdown",
   "metadata": {
    "collapsed": true
   },
   "source": [
    "You lose X with probability $p = \\frac{d}{(1+d)}$ and you win Y with probability $1 − p = \\frac{1}{(1+d)}$. So your answer is\n",
    "$−X\\frac{d}{1+d}+Y\\frac{1}{1+d}$"
   ]
  },
  {
   "cell_type": "markdown",
   "metadata": {},
   "source": [
    "**Question** - If you roll ten standard dice, take their average, then repeat this process over and over and\n",
    "construct a histogram what would it be centered at?"
   ]
  },
  {
   "cell_type": "markdown",
   "metadata": {
    "collapsed": true
   },
   "source": [
    "3.5"
   ]
  },
  {
   "cell_type": "markdown",
   "metadata": {},
   "source": [
    "# Variation"
   ]
  },
  {
   "cell_type": "markdown",
   "metadata": {},
   "source": [
    "**Question** - If I have a random sample from a population, the sample variance is an estimate of?\n",
    "1. The population standard deviation.\n",
    "2. The population variance.\n",
    "3. The sample variance.\n",
    "4. The sample standard deviation."
   ]
  },
  {
   "cell_type": "markdown",
   "metadata": {
    "collapsed": true
   },
   "source": [
    "2"
   ]
  },
  {
   "cell_type": "markdown",
   "metadata": {},
   "source": [
    "**Question** - The distribution of the sample variance of a random sample from a population is centered at\n",
    "what?\n",
    "1. The population variance.\n",
    "2. The population mean."
   ]
  },
  {
   "cell_type": "markdown",
   "metadata": {
    "collapsed": false
   },
   "source": [
    "1"
   ]
  },
  {
   "cell_type": "markdown",
   "metadata": {},
   "source": [
    "**Question** - I keep drawing samples of size n from a population with variance \u001b2 and taking their average.\n",
    "I do this thousands of times. If I were to take the variance of the collection of averages, about\n",
    "what would it be?"
   ]
  },
  {
   "cell_type": "markdown",
   "metadata": {
    "collapsed": true
   },
   "source": [
    "$\\frac{\\sigma^2}{n} = \\frac{2}{n} $ Where n is the number of samples"
   ]
  },
  {
   "cell_type": "markdown",
   "metadata": {},
   "source": [
    "**Question** - You get a random sample of **n** observations from a population and take their average. You\n",
    "would like to estimate the variability of averages of **n** observations from this population\n",
    "to better understand how precise of an estimate it is. Do you need to repeated collect averages\n",
    "to do this?\n",
    "\n",
    "1. No, we can multiply our estimate of the population variance by 1/n to get a good estimate of the variability of the average.\n",
    "2. Yes, you have to get repeat averages."
   ]
  },
  {
   "cell_type": "markdown",
   "metadata": {
    "collapsed": true
   },
   "source": [
    "1"
   ]
  },
  {
   "cell_type": "markdown",
   "metadata": {},
   "source": [
    "**Question** - A random variable takes the value -4 with probability .2 and 1 with probability .8. What is\n",
    "the variance of this random variable?"
   ]
  },
  {
   "cell_type": "markdown",
   "metadata": {
    "collapsed": true
   },
   "source": [
    "$E[X]=0 \\\\\n",
    "Var(X)=E[X2]=(−4)2∗.2+(1)2∗.8 = 4$"
   ]
  },
  {
   "cell_type": "code",
   "execution_count": 3,
   "metadata": {
    "collapsed": false
   },
   "outputs": [
    {
     "data": {
      "text/plain": [
       "0.0"
      ]
     },
     "execution_count": 3,
     "metadata": {},
     "output_type": "execute_result"
    }
   ],
   "source": [
    "-4 * .2 + 1 * .8"
   ]
  },
  {
   "cell_type": "code",
   "execution_count": 5,
   "metadata": {
    "collapsed": false
   },
   "outputs": [
    {
     "data": {
      "text/plain": [
       "4.0"
      ]
     },
     "execution_count": 5,
     "metadata": {},
     "output_type": "execute_result"
    }
   ],
   "source": [
    "(-4)**2 * .2 + (1)**2 * .8"
   ]
  },
  {
   "cell_type": "markdown",
   "metadata": {},
   "source": [
    "**Question** - Let X be a random variable having standard deviation \u001b. What can be said about the variance\n",
    "of X/\u001bo?"
   ]
  },
  {
   "cell_type": "markdown",
   "metadata": {
    "collapsed": true
   },
   "source": [
    "It has variance 1.\n",
    "\n",
    "$ Var(\\frac{X}{\\sigma}) = \\frac{Var(X)}{\\sigma^2} = 1$"
   ]
  },
  {
   "cell_type": "markdown",
   "metadata": {},
   "source": [
    "**Question** - If you roll ten standard dice, take their average, then repeat this process over and over and\n",
    "construct a histogram, what would be its variance expressed to 3 decimal places?"
   ]
  },
  {
   "cell_type": "markdown",
   "metadata": {
    "collapsed": true
   },
   "source": [
    "The answer will be 0.292 since the variance of the sampling distribution of the mean is $\\frac{\\sigma^2}{10}$ where $\\sigma^2$ is the variance of a single die roll, which is"
   ]
  },
  {
   "cell_type": "code",
   "execution_count": 23,
   "metadata": {
    "collapsed": false
   },
   "outputs": [
    {
     "data": {
      "text/plain": [
       "0.29166666666666669"
      ]
     },
     "execution_count": 23,
     "metadata": {},
     "output_type": "execute_result"
    }
   ],
   "source": [
    "import numpy as np\n",
    "np.mean(((np.array(range(1, 7), dtype = 'float') - 3.5)**2)/10)"
   ]
  },
  {
   "cell_type": "markdown",
   "metadata": {},
   "source": [
    "# Common Distributions"
   ]
  },
  {
   "cell_type": "markdown",
   "metadata": {},
   "source": [
    "**Question** -  Your friend claims that changing the font to comic sans will result in more ad revenue on your\n",
    "web sites. When presented in random order, 9 pages out of 10 had more revenue when the\n",
    "font was set to comic sans. If it was really a coin flip for these 10 sites, what’s the probability\n",
    "of getting 9 or 10 out of 10 with more revenue for the new font?"
   ]
  },
  {
   "cell_type": "markdown",
   "metadata": {
    "collapsed": true
   },
   "source": [
    "$\\binom{10}{9}(0.5)^9 (1 - 0.5)^{10 - 9} = 10(0.5)^{10} = 0.0098 $"
   ]
  },
  {
   "cell_type": "code",
   "execution_count": 25,
   "metadata": {
    "collapsed": false
   },
   "outputs": [
    {
     "data": {
      "text/plain": [
       "0.009765625"
      ]
     },
     "execution_count": 25,
     "metadata": {},
     "output_type": "execute_result"
    }
   ],
   "source": [
    "10*0.5**10"
   ]
  },
  {
   "cell_type": "markdown",
   "metadata": {},
   "source": [
    "**Question** - A software company is doing an analysis of documentation errors of their products. They sampled their very large codebase in chunks and found that the number of errors per chunk was approximately normally distributed with a mean of 11 errors and a standard deviation of 2. When randomly selecting a chunk from their codebase, whats the probability of fewer than 5 documentation errors?"
   ]
  },
  {
   "cell_type": "code",
   "execution_count": 41,
   "metadata": {
    "collapsed": false
   },
   "outputs": [
    {
     "data": {
      "text/plain": [
       "0.0013498980316300933"
      ]
     },
     "execution_count": 41,
     "metadata": {},
     "output_type": "execute_result"
    }
   ],
   "source": [
    "from scipy.stats import norm\n",
    "Z = (5 - 11) / 2\n",
    "norm.cdf(Z)\n",
    "\n",
    "#or alternatively\n",
    "myNormal = norm(loc = 11, scale = 2)\n",
    "myNormal.cdf(5)"
   ]
  },
  {
   "cell_type": "markdown",
   "metadata": {},
   "source": [
    "**Question** - The number of search entries entered at a web site is Poisson at a rate of 9 searches per minute.\n",
    "The site is monitored for 5 minutes. What is the probability of 40 or fewer searches in that\n",
    "time frame?"
   ]
  },
  {
   "cell_type": "code",
   "execution_count": 48,
   "metadata": {
    "collapsed": false
   },
   "outputs": [
    {
     "data": {
      "text/plain": [
       "0.25554507792812953"
      ]
     },
     "execution_count": 48,
     "metadata": {},
     "output_type": "execute_result"
    }
   ],
   "source": [
    "from scipy.stats import poisson\n",
    "myPoisson = poisson(mu = 9*5)\n",
    "myPoisson.cdf(40)"
   ]
  },
  {
   "cell_type": "markdown",
   "metadata": {},
   "source": [
    "**Question** - Suppose that the number of web hits to a particular site are approximately normally\n",
    "distributed with a mean of 100 hits per day and a standard deviation of 10 hits per day. What’s\n",
    "the probability that a given day has fewer than 93 hits per day expressed as a percentage to\n",
    "the nearest percentage point?"
   ]
  },
  {
   "cell_type": "markdown",
   "metadata": {
    "collapsed": true
   },
   "source": [
    "This can be estimated quickly to be approximately 0.26 since 10 hits is about one standard deviation from the mean so 50% - 34% = 26%"
   ]
  },
  {
   "cell_type": "code",
   "execution_count": 57,
   "metadata": {
    "collapsed": false
   },
   "outputs": [
    {
     "data": {
      "text/plain": [
       "0.24196365222307303"
      ]
     },
     "execution_count": 57,
     "metadata": {},
     "output_type": "execute_result"
    }
   ],
   "source": [
    "#or alternatively\n",
    "myNormal = norm(loc = 100, scale = 10)\n",
    "myNormal.cdf(93)"
   ]
  },
  {
   "cell_type": "markdown",
   "metadata": {},
   "source": [
    "**Question** - Suppose that the number of web hits to a particular site are approximately normally\n",
    "distributed with a mean of 100 hits per day and a standard deviation of 10 hits per day. What\n",
    "number of web hits per day represents the number so that only 5% of days have more hits?"
   ]
  },
  {
   "cell_type": "code",
   "execution_count": 61,
   "metadata": {
    "collapsed": false
   },
   "outputs": [
    {
     "data": {
      "text/plain": [
       "116.44853626951472"
      ]
     },
     "execution_count": 61,
     "metadata": {},
     "output_type": "execute_result"
    }
   ],
   "source": [
    "myNormal = norm(loc = 100, scale = 10)\n",
    "myNormal.ppf(0.95)"
   ]
  },
  {
   "cell_type": "markdown",
   "metadata": {},
   "source": [
    "**Question** - Suppose that the number of web hits to a particular site are approximately normally\n",
    "distributed with a mean of 100 hits per day and a standard deviation of 10 hits per day. Imagine\n",
    "taking a random sample of 50 days. What number of web hits would be the point so that only\n",
    "5% of averages of 50 days of web traffic have more hits?"
   ]
  },
  {
   "cell_type": "code",
   "execution_count": 63,
   "metadata": {
    "collapsed": false
   },
   "outputs": [
    {
     "data": {
      "text/plain": [
       "102.32617430735334"
      ]
     },
     "execution_count": 63,
     "metadata": {},
     "output_type": "execute_result"
    }
   ],
   "source": [
    "myNormal = norm(loc = 100, scale = 10/(50)**0.5)\n",
    "myNormal.ppf(0.95)"
   ]
  },
  {
   "cell_type": "markdown",
   "metadata": {},
   "source": [
    "**Question** - You don’t believe that your friend can discern good wine from cheap. Assuming that you’re\n",
    "right, in a blind test where you randomize 6 paired varieties (Merlot, Chianti, …) of cheap and\n",
    "expensive wines. What is the change that she gets 5 or 6 right?"
   ]
  },
  {
   "cell_type": "code",
   "execution_count": 71,
   "metadata": {
    "collapsed": false
   },
   "outputs": [
    {
     "data": {
      "text/plain": [
       "0.109375"
      ]
     },
     "execution_count": 71,
     "metadata": {},
     "output_type": "execute_result"
    }
   ],
   "source": [
    "from scipy.stats import binom\n",
    "myBinom = binom(n = 6, p = 0.5)\n",
    "1 - myBinom.cdf(4)"
   ]
  },
  {
   "cell_type": "markdown",
   "metadata": {},
   "source": [
    "**Question** - The number of web hits to a site is Poisson with mean 16.5 per day. What is the probability of\n",
    "getting 20 or fewer in 2 days?"
   ]
  },
  {
   "cell_type": "code",
   "execution_count": 72,
   "metadata": {
    "collapsed": false
   },
   "outputs": [
    {
     "data": {
      "text/plain": [
       "0.010453906317688662"
      ]
     },
     "execution_count": 72,
     "metadata": {},
     "output_type": "execute_result"
    }
   ],
   "source": [
    "myPoisson = poisson(mu = 16.5*2)\n",
    "myPoisson.cdf(20)"
   ]
  },
  {
   "cell_type": "markdown",
   "metadata": {},
   "source": [
    "# Asymptopia"
   ]
  },
  {
   "cell_type": "markdown",
   "metadata": {},
   "source": [
    "**Question** - I simulate 1,000,000 standard normals. The LLN says that their sample average must be close\n",
    "to?"
   ]
  },
  {
   "cell_type": "markdown",
   "metadata": {
    "collapsed": true
   },
   "source": [
    "0"
   ]
  },
  {
   "cell_type": "markdown",
   "metadata": {},
   "source": [
    "**Question** - About what is the probability of getting 45 or fewer heads out 100 flips of a fair coin? (Use the\n",
    "CLT, not the exact binomial calculation)."
   ]
  },
  {
   "cell_type": "code",
   "execution_count": 7,
   "metadata": {
    "collapsed": false
   },
   "outputs": [
    {
     "data": {
      "text/plain": [
       "0.67364477971208003"
      ]
     },
     "execution_count": 7,
     "metadata": {},
     "output_type": "execute_result"
    }
   ],
   "source": [
    "import numpy as np\n",
    "from scipy.stats import norm\n",
    "\n",
    "myNorm = norm(loc = 0.50, scale = np.sqrt(0.5*0.5*100))\n",
    "norm.cdf(0.45)"
   ]
  },
  {
   "cell_type": "markdown",
   "metadata": {},
   "source": [
    "**Question** - Consider the [Galton's Height Data](http://www.math.uah.edu/stat/data/Galton.html). Using the CLT and assuming that the fathers are a random sample from a population of interest, what is a 95% confidence mean height in inches?"
   ]
  },
  {
   "cell_type": "code",
   "execution_count": 13,
   "metadata": {
    "collapsed": false
   },
   "outputs": [
    {
     "data": {
      "text/plain": [
       "array([ 69.09732319,  69.36837837])"
      ]
     },
     "execution_count": 13,
     "metadata": {},
     "output_type": "execute_result"
    }
   ],
   "source": [
    "import pandas as pd\n",
    "\n",
    "Galton_data = pd.read_csv('../data/Galton.csv', index_col = None)\n",
    "np.mean(Galton_data['Father']) + np.array([-1, 1]) * 1.645 * np.std(Galton_data['Father']/np.sqrt(len(Galton_data['Father'])))"
   ]
  },
  {
   "cell_type": "markdown",
   "metadata": {},
   "source": [
    "**Question** - The goal of a a confidence interval having coverage 95% is to imply that:\n",
    "1. If one were to repeated collect samples and reconstruct the intervals, around 95% percent\n",
    "of them would contain the true mean being estimated.\n",
    "2. The probability that the sample mean is in the interval is 95%."
   ]
  },
  {
   "cell_type": "code",
   "execution_count": null,
   "metadata": {
    "collapsed": true
   },
   "outputs": [],
   "source": [
    "1"
   ]
  },
  {
   "cell_type": "markdown",
   "metadata": {},
   "source": [
    "**Question** - The rate of search entries into a web site was 10 per minute when monitoring for an hour. Use\n",
    "Python to calculate the exact Poisson interval for the rate of events per minute?"
   ]
  },
  {
   "cell_type": "code",
   "execution_count": 14,
   "metadata": {
    "collapsed": false
   },
   "outputs": [
    {
     "data": {
      "text/plain": [
       "array([ 0.07996755,  0.25336578])"
      ]
     },
     "execution_count": 14,
     "metadata": {},
     "output_type": "execute_result"
    }
   ],
   "source": [
    "# Will assume a 95% CI\n",
    "x = 10\n",
    "t = 60\n",
    "m = x/t\n",
    "m + np.array([-1, 1]) * 1.645 * np.sqrt(m/t)"
   ]
  },
  {
   "cell_type": "markdown",
   "metadata": {},
   "source": [
    "**Question** - Consider a uniform distribution. If we were to sample 100 draws from a a uniform distribution\n",
    "(which has mean 0.5, and variance 1/12) and take their mean, $\\bar{X}$. What is the approximate\n",
    "probability of getting as large as 0.51 or larger?"
   ]
  },
  {
   "cell_type": "code",
   "execution_count": 19,
   "metadata": {
    "collapsed": false
   },
   "outputs": [
    {
     "data": {
      "text/plain": [
       "0.36451724476940184"
      ]
     },
     "execution_count": 19,
     "metadata": {},
     "output_type": "execute_result"
    }
   ],
   "source": [
    "from scipy.stats import norm\n",
    "myNormal = norm(loc = 0.5, scale = np.sqrt(1 / 12 / 100))\n",
    "1 - myNormal.cdf(0.51)"
   ]
  },
  {
   "cell_type": "markdown",
   "metadata": {},
   "source": [
    "# t Confidence Intervals"
   ]
  },
  {
   "cell_type": "markdown",
   "metadata": {},
   "source": [
    "For iid Gaussian data, the statistic $\\frac{\\bar X - \\mu}{s / \\sqrt{n}}$ must follow a:\n",
    "1. Z distribution\n",
    "2. t distribution"
   ]
  },
  {
   "cell_type": "markdown",
   "metadata": {},
   "source": [
    "2"
   ]
  },
  {
   "cell_type": "markdown",
   "metadata": {},
   "source": [
    "**Question** - Paired differences T confidence intervals are useful when:\n",
    "1. Pairs of observations are linked, such as when there is subject level matching or in a\n",
    "study with baseline and follow up measurements on all participants.\n",
    "2. When there was randomization of a treatment between two independent groups.\n",
    "\n"
   ]
  },
  {
   "cell_type": "code",
   "execution_count": 20,
   "metadata": {
    "collapsed": false
   },
   "outputs": [
    {
     "data": {
      "text/plain": [
       "2"
      ]
     },
     "execution_count": 20,
     "metadata": {},
     "output_type": "execute_result"
    }
   ],
   "source": [
    "2"
   ]
  },
  {
   "cell_type": "markdown",
   "metadata": {},
   "source": [
    "**Question** - The assumption that the variances are equal for the independent group T interval means that:\n",
    "1. The sample variances have to be nearly identical.\n",
    "2. The population variances are identical, but the sample variances may be different."
   ]
  },
  {
   "cell_type": "code",
   "execution_count": null,
   "metadata": {
    "collapsed": true
   },
   "outputs": [],
   "source": [
    "1"
   ]
  },
  {
   "cell_type": "markdown",
   "metadata": {},
   "source": [
    "**Question** - Load the data set mtcars in the from the ggplot module. Calculate a 95% confidence interval to\n",
    "the nearest MPG for the variable mpg."
   ]
  },
  {
   "cell_type": "code",
   "execution_count": 43,
   "metadata": {
    "collapsed": false
   },
   "outputs": [
    {
     "data": {
      "text/plain": [
       "(17.917678508746242, 22.263571491253757)"
      ]
     },
     "execution_count": 43,
     "metadata": {},
     "output_type": "execute_result"
    }
   ],
   "source": [
    "import statsmodels.stats.api as sm\n",
    "import pandas as pd\n",
    "from ggplot import mtcars as mtcars\n",
    "\n",
    "sm.DescrStatsW(mtcars['mpg']).tconfint_mean()"
   ]
  },
  {
   "cell_type": "markdown",
   "metadata": {},
   "source": [
    "**Question** - Suppose that standard deviation of 9 paired differences is $1$. What value would the average\n",
    "difference have to be so that the lower endpoint of a 95% students t confidence interval touches\n",
    "zero?"
   ]
  },
  {
   "cell_type": "markdown",
   "metadata": {
    "collapsed": true
   },
   "source": [
    "We want $\\bar{x} = t_{975,8}S/\\sqrt{n}$"
   ]
  },
  {
   "cell_type": "code",
   "execution_count": 52,
   "metadata": {
    "collapsed": false
   },
   "outputs": [
    {
     "data": {
      "text/plain": [
       "0.76866804501112351"
      ]
     },
     "execution_count": 52,
     "metadata": {},
     "output_type": "execute_result"
    }
   ],
   "source": [
    "from scipy.stats import t\n",
    "\n",
    "myT = t(df = 8)\n",
    "myT.ppf(0.975) * 1/3"
   ]
  },
  {
   "cell_type": "markdown",
   "metadata": {},
   "source": [
    "**Question** - An independent group Student’s T interval is used instead of a paired T interval when:\n",
    "1. The observations are paired between the groups.\n",
    "2. The observations between the groups are naturally assumed to be statistically independent.\n",
    "3. As long as you do it correctly, either is fine.\n",
    "4. More details are needed to answer this question."
   ]
  },
  {
   "cell_type": "markdown",
   "metadata": {
    "collapsed": true
   },
   "source": [
    "2\n",
    "We can't pair them if the groups are independent of each other as well as independent within themselves."
   ]
  },
  {
   "cell_type": "markdown",
   "metadata": {},
   "source": [
    "**Question** - Consider the mtcars dataset. Construct a 95% T interval for MPG comparing 4 to 6 cylinder\n",
    "cars (subtracting in the order of 4 - 6) assume a constant variance."
   ]
  },
  {
   "cell_type": "code",
   "execution_count": 63,
   "metadata": {
    "collapsed": false
   },
   "outputs": [
    {
     "data": {
      "text/plain": [
       "(array([ 3.1542863]), array([ 10.68727214]))"
      ]
     },
     "execution_count": 63,
     "metadata": {},
     "output_type": "execute_result"
    }
   ],
   "source": [
    "cyl_4 = mtcars.query('cyl == 4')[['mpg']]\n",
    "cyl_6 = mtcars.query('cyl == 6')[['mpg']]\n",
    "\n",
    "sm.CompareMeans(sm.DescrStatsW(cyl_4), sm.DescrStatsW(cyl_6)).tconfint_diff()"
   ]
  },
  {
   "cell_type": "markdown",
   "metadata": {},
   "source": [
    "**Question** - If someone put a gun to your head and said “Your confidence interval must contain what it’s\n",
    "estimating or I’ll pull the trigger”, what would be the smart thing to do?\n",
    "1. Make your interval as wide as possible.\n",
    "2. Make your interval as small as possible.\n",
    "3. Call the authorities. "
   ]
  },
  {
   "cell_type": "markdown",
   "metadata": {
    "collapsed": true
   },
   "source": [
    "1. This is just an example of what happens to confidence intervals as you increase the confidence level. You want to be quite sure in your interval (i.e. have a large confidence level) and so you would increase the interval's width"
   ]
  },
  {
   "cell_type": "markdown",
   "metadata": {},
   "source": [
    "**Question** - Refer back to comparing MPG for 4 versus 6 cylinders. What do you conclude?\n",
    "1. The interval is above zero, suggesting 6 is better than 4 in the terms of MPG.\n",
    "2. The interval is above zero, suggesting 4 is better than 6 in the terms of MPG.\n",
    "3. The interval does not tell you anything about the hypothesis test; you have to do the\n",
    "test.\n",
    "4. The interval contains 0 suggesting no difference.\n",
    "\n"
   ]
  },
  {
   "cell_type": "markdown",
   "metadata": {
    "collapsed": true
   },
   "source": [
    "2 The interval was conducted subtracting 4 - 6 and was entirely above zero."
   ]
  },
  {
   "cell_type": "markdown",
   "metadata": {},
   "source": [
    "**Question** - Suppose that 18 obese subjects were randomized, 9 each, to a new diet pill and a placebo.\n",
    "Subjects’ body mass indices (BMIs) were measured at a baseline and again after having\n",
    "received the treatment or placebo for four weeks. The average difference from follow-up to\n",
    "the baseline (follow-up - baseline) was 3 kg/m^2 for the treated group and 1 kg/m^2 for the\n",
    "placebo group. The corresponding standard deviations of the differences was 1.5 kg/m^2 for\n",
    "the treatment group and 1.8 kg/m^2 for the placebo group. The study aims to answer whether\n",
    "the change in BMI over the four week period appear to differ between the treated and placebo\n",
    "groups. What is the pooled variance estimate? "
   ]
  },
  {
   "cell_type": "code",
   "execution_count": 69,
   "metadata": {
    "collapsed": false
   },
   "outputs": [
    {
     "data": {
      "text/plain": [
       "2.745"
      ]
     },
     "execution_count": 69,
     "metadata": {},
     "output_type": "execute_result"
    }
   ],
   "source": [
    "n1 = 9\n",
    "n2 = 9\n",
    "x1 = -3  ##treated\n",
    "x2 = 1  ##placebo\n",
    "s1 = 1.5  ##treated\n",
    "s2 = 1.8  ##placebo\n",
    "\n",
    "((n1 - 1) * s1**2 + (n2 - 1) * s2**2) / (n1 + n2 -2)"
   ]
  },
  {
   "cell_type": "markdown",
   "metadata": {},
   "source": [
    "# Hypothesis Testing"
   ]
  },
  {
   "cell_type": "markdown",
   "metadata": {},
   "source": [
    "**Question** - Which hypothesis is typically assumed to be true in hypothesis testing?\n",
    "1. The null.\n",
    "2. The alternative."
   ]
  },
  {
   "cell_type": "markdown",
   "metadata": {
    "collapsed": true
   },
   "source": [
    "1"
   ]
  },
  {
   "cell_type": "markdown",
   "metadata": {},
   "source": [
    "**Question** - The type I error rate controls what?"
   ]
  },
  {
   "cell_type": "markdown",
   "metadata": {
    "collapsed": true
   },
   "source": [
    "A type I error is the incorrect rejection of a true null hypothesis (a \"false positive\")"
   ]
  },
  {
   "cell_type": "markdown",
   "metadata": {},
   "source": [
    "**Question** - Load the data set `mtcars` in the ggplot module. Assume that the data set mtcars is a\n",
    "random sample. Compute the mean MPG, $\\bar{x}$; of this sample. You want to test whether the true\n",
    "MPG is $\\mu_0 $ or smaller using a one sided 5% level test. (H0 : $\\mu$ = $\\mu_0 $ versus $H_a $ : $\\mu$ < $\\mu_0 $).\n",
    "Using that data set and a Z test: Based on the mean MPG of the sample $\\bar{x}$; and by using a Z\n",
    "test: what is the smallest value of $\\mu_0 $ that you would reject for (to two decimal places)?"
   ]
  },
  {
   "cell_type": "markdown",
   "metadata": {
    "collapsed": true
   },
   "source": [
    "We want to solve\n",
    "$$ \\frac{\\sqrt{n}(\\bar{x} - \\mu_0 )}{s} = Z_{0.05} $$\n",
    "Or\n",
    "$$ \\mu_0 = \\bar{x} - Z_{0.05}s\\sqrt{n} = \\mu_0 = \\bar{x} + Z_{0.95}s\\sqrt{n} $$\n",
    "\n",
    "Note that the quantile is negative."
   ]
  },
  {
   "cell_type": "code",
   "execution_count": 74,
   "metadata": {
    "collapsed": false
   },
   "outputs": [
    {
     "data": {
      "text/plain": [
       "mpg    21.815492\n",
       "dtype: float64"
      ]
     },
     "execution_count": 74,
     "metadata": {},
     "output_type": "execute_result"
    }
   ],
   "source": [
    "import numpy as np\n",
    "from scipy.stats import norm\n",
    "from ggplot import mtcars as mtcars\n",
    "\n",
    "mn = np.mean(mtcars[['mpg']])\n",
    "s = np.std(mtcars[['mpg']])\n",
    "z = norm().ppf(0.05)\n",
    "\n",
    "mn - z * s / np.sqrt(len(mtcars))"
   ]
  },
  {
   "cell_type": "markdown",
   "metadata": {},
   "source": [
    "Note, it's easy to get tripped up in this problem on signs. If you get a value that's less than $\\bar{x}$, then clearly it's wrong, since you'd never reject for $H_0:\\mu = \\mu_0$ versus $H_a:\\mu<\\mu_0$ if $\\mu_0$ was less than your observed mean. Also note the answer to \"What is the largest value for which you would reject for?\" is infinity."
   ]
  },
  {
   "cell_type": "markdown",
   "metadata": {},
   "source": [
    "**Question** - Consider again the `mtcars` dataset. Use a two group t-test to test the hypothesis that the 4 and\n",
    "6 cyl cars have the same mpg. Use a two sided test with unequal variances. Do you reject?"
   ]
  },
  {
   "cell_type": "code",
   "execution_count": 77,
   "metadata": {
    "collapsed": false
   },
   "outputs": [
    {
     "data": {
      "text/plain": [
       "(array([ 4.7190594]), array([ 0.00040485]), array([ 12.95598138]))"
      ]
     },
     "execution_count": 77,
     "metadata": {},
     "output_type": "execute_result"
    }
   ],
   "source": [
    "import pandas as pd\n",
    "import statsmodels.stats.api as sm\n",
    "cyl_4 = mtcars.query('cyl == 4')[['mpg']]\n",
    "cyl_6 = mtcars.query('cyl == 6')[['mpg']]\n",
    "\n",
    "sm.ttest_ind(cyl_4, cyl_6, usevar = 'unequal')"
   ]
  },
  {
   "cell_type": "markdown",
   "metadata": {},
   "source": [
    "The above indicates a p-value of 0.0004 indicating to reject at the 5% level."
   ]
  },
  {
   "cell_type": "markdown",
   "metadata": {},
   "source": [
    "**Question** - A sample of 100 men yielded an average [PSA](https://www.cancer.gov/types/prostate/psa-fact-sheet) level of 3.0 with a sd of 1.1. What are the complete set of values that a 5% two sided Z test of $H_0: \\mu = \\mu_0$ would fail to reject the null hypothesis for? "
   ]
  },
  {
   "cell_type": "code",
   "execution_count": 91,
   "metadata": {
    "collapsed": false
   },
   "outputs": [
    {
     "data": {
      "text/plain": [
       "3.1809338989646618"
      ]
     },
     "execution_count": 91,
     "metadata": {},
     "output_type": "execute_result"
    }
   ],
   "source": [
    "myNorm = norm(loc = 3, scale = 1.1/10)\n",
    "\n",
    "myNorm.ppf(0.95)"
   ]
  },
  {
   "cell_type": "markdown",
   "metadata": {},
   "source": [
    "**Question** - You believe the coin that you’re flipping is biased towards heads. You get 55 heads out of 100\n",
    "flips. Do you reject at the 5% level that the coin is fair?"
   ]
  },
  {
   "cell_type": "code",
   "execution_count": 12,
   "metadata": {
    "collapsed": false
   },
   "outputs": [
    {
     "data": {
      "text/plain": [
       "0.18410080866334821"
      ]
     },
     "execution_count": 12,
     "metadata": {},
     "output_type": "execute_result"
    }
   ],
   "source": [
    "from scipy.stats import binom\n",
    "myBinom = binom(n = 100, p = 0.5)\n",
    "1 - myBinom.cdf(54)"
   ]
  },
  {
   "cell_type": "markdown",
   "metadata": {},
   "source": [
    "No you do not reject."
   ]
  },
  {
   "cell_type": "markdown",
   "metadata": {},
   "source": [
    "**Question** - Suppose that in an AB test, one advertising scheme led to an average of 10 purchases per day\n",
    "for a sample of 100 days, while the other led to 11 purchases per day, also for a sample of\n",
    "100 days. Assuming a common standard deviation of 4 purchases per day. Assuming that the\n",
    "groups are independent and that they days are iid, perform a Z test of equivalence. Do you\n",
    "reject at the 5% level? "
   ]
  },
  {
   "cell_type": "code",
   "execution_count": 15,
   "metadata": {
    "collapsed": false
   },
   "outputs": [
    {
     "data": {
      "text/plain": [
       "0.077099871743541701"
      ]
     },
     "execution_count": 15,
     "metadata": {},
     "output_type": "execute_result"
    }
   ],
   "source": [
    "from scipy.stats import norm\n",
    "\n",
    "m1 = 10\n",
    "m2 = 11\n",
    "n1 = 100\n",
    "n2 = 100\n",
    "s = 4\n",
    "se = s * np.sqrt(1 / n1 + 1 / n2)\n",
    "ts = (m2 - m1) / se\n",
    "2 * norm.cdf(-np.abs(ts))"
   ]
  },
  {
   "cell_type": "markdown",
   "metadata": {},
   "source": [
    "No you do not reject."
   ]
  },
  {
   "cell_type": "markdown",
   "metadata": {},
   "source": [
    "**Question** - A confidence interval for the mean contains:\n",
    "1. All of the values of the hypothesized mean for which we would fail to reject with alpha = 1 - Confidence Interval.\n",
    "\n",
    "2. All of the values of the hypothesized mean for which we would fail to reject with 2 * alpha = 1 - Confidence Interval.\n",
    "\n",
    "3. All of the values of the hypothesized mean for which we would reject with alpha = 1 - Confidence Interval.\n",
    "\n",
    "4. All of the values of the hypothesized mean for which we would reject with 2 * alpha = 1 - Confidence Interval.\n"
   ]
  },
  {
   "cell_type": "markdown",
   "metadata": {
    "collapsed": true
   },
   "source": [
    "1\n",
    "\n",
    "The only complicated part of this is the 2. Note that a 95% interval corresponds to a 5% level two sided test. So it's $\\alpha = 1 - Conf Level$. The confusion is that for both the two sided test and confidence interval, one needs to calculate $Z_1 - \\alpha / 2$ (or the relevant T quantile)."
   ]
  },
  {
   "cell_type": "markdown",
   "metadata": {},
   "source": [
    "**Question** - In a court of law, all things being equal, if via policy you require a lower standard of evidence\n",
    "to convict people then\n",
    "1 Less guilty people will be convicted.\n",
    "2. More innocent people will be convicted.\n",
    "3. More Innocent people will be not convicted."
   ]
  },
  {
   "cell_type": "markdown",
   "metadata": {
    "collapsed": true
   },
   "source": [
    "1\n",
    "If you require less evidence to convict, then you will convict more people, guilty and innocent. Relate this property back to hypothesis tests."
   ]
  },
  {
   "cell_type": "markdown",
   "metadata": {},
   "source": [
    "# P-values"
   ]
  },
  {
   "cell_type": "markdown",
   "metadata": {},
   "source": [
    "**Question** - P-values are probabilities that are calculated assuming which hypothesis is true?\n",
    "1. the alternative\n",
    "2. the null"
   ]
  },
  {
   "cell_type": "markdown",
   "metadata": {
    "collapsed": true
   },
   "source": [
    "2"
   ]
  },
  {
   "cell_type": "markdown",
   "metadata": {},
   "source": [
    "**Question** - You get a P-value of 0.06. Would you reject for a type I error rate of 0.05?\n",
    "1. Yes you would reject the null\n",
    "2. No you would not reject the null\n",
    "3. It depends on information not given"
   ]
  },
  {
   "cell_type": "markdown",
   "metadata": {
    "collapsed": true
   },
   "source": [
    "2"
   ]
  },
  {
   "cell_type": "markdown",
   "metadata": {},
   "source": [
    "**Question** - The proposed procedure for getting a two sided P-value for the exact binomial test considered\n",
    "here is what?\n",
    "1. Multiplying the one sided P-value by one half\n",
    "2. Doubling the larger of the two one sided P-values\n",
    "3. Doubling the smaller of the two one sided P-values\n",
    "4. No procedure exists"
   ]
  },
  {
   "cell_type": "markdown",
   "metadata": {
    "collapsed": true
   },
   "source": [
    "2, but note that this is only possible for the case that p = 0.5"
   ]
  },
  {
   "cell_type": "markdown",
   "metadata": {},
   "source": [
    "**Question** - Consider again the `mtcars` dataset. Use a two group t-test to test the hypothesis that the 4 and\n",
    "6 cyl cars have the same mpg. Use a two sided test with unequal variances. Give a P-value."
   ]
  },
  {
   "cell_type": "code",
   "execution_count": 19,
   "metadata": {
    "collapsed": false
   },
   "outputs": [
    {
     "data": {
      "text/plain": [
       "array([ 0.00040485])"
      ]
     },
     "execution_count": 19,
     "metadata": {},
     "output_type": "execute_result"
    }
   ],
   "source": [
    "import statsmodels.stats.api as sm\n",
    "from ggplot import mtcars as mtcars\n",
    "\n",
    "cyl_4 = mtcars.query('cyl == 4')[['mpg']]\n",
    "cyl_6 = mtcars.query('cyl == 6')[['mpg']]\n",
    "\n",
    "sm.CompareMeans(sm.DescrStatsW(cyl_4), sm.DescrStatsW(cyl_6)).ttest_ind(usevar = 'unequal')[1]"
   ]
  },
  {
   "cell_type": "markdown",
   "metadata": {},
   "source": [
    "Since the p-value is less than 0.05, the null hypothesis can be rejected."
   ]
  },
  {
   "cell_type": "markdown",
   "metadata": {},
   "source": [
    "**Question** - You believe the coin that you’re flipping is biased towards heads. You get 55 heads out of 100\n",
    "flips. Give an exact P-value for the hypothesis that the coin is fair."
   ]
  },
  {
   "cell_type": "code",
   "execution_count": 21,
   "metadata": {
    "collapsed": false
   },
   "outputs": [
    {
     "data": {
      "text/plain": [
       "0.18410080866334821"
      ]
     },
     "execution_count": 21,
     "metadata": {},
     "output_type": "execute_result"
    }
   ],
   "source": [
    "from scipy.stats import binom\n",
    "myBinom = binom(n = 100, p = 0.5)\n",
    "1 - myBinom.cdf(54)"
   ]
  },
  {
   "cell_type": "markdown",
   "metadata": {},
   "source": [
    "p-value = 0.1841, thus the null hypothesis cannot be rejected."
   ]
  },
  {
   "cell_type": "markdown",
   "metadata": {},
   "source": [
    "**Question** - A web site was monitored for a year and it received 520 hits per day. In the first 30 days in the\n",
    "next year, the site received 15,800 hits. Assuming that web hits are Poisson. Give an exact one\n",
    "sided P-value to the hypothesis that web hits are up this year over last. Do you reject? "
   ]
  },
  {
   "cell_type": "code",
   "execution_count": 31,
   "metadata": {
    "collapsed": false
   },
   "outputs": [
    {
     "data": {
      "text/plain": [
       "0.054445702451260791"
      ]
     },
     "execution_count": 31,
     "metadata": {},
     "output_type": "execute_result"
    }
   ],
   "source": [
    "from scipy.stats import poisson\n",
    "myPoisson = poisson(mu = 520 * 30)\n",
    "1 - myPoisson.cdf(15800)"
   ]
  },
  {
   "cell_type": "markdown",
   "metadata": {},
   "source": [
    "Does not reject"
   ]
  },
  {
   "cell_type": "code",
   "execution_count": 32,
   "metadata": {
    "collapsed": false
   },
   "outputs": [
    {
     "data": {
      "text/plain": [
       "0.054657288104334234"
      ]
     },
     "execution_count": 32,
     "metadata": {},
     "output_type": "execute_result"
    }
   ],
   "source": [
    "#Also, compare with the Gaussian approximation where λˆ∼N(λ,λ/t)\n",
    "import numpy as np\n",
    "from scipy.stats import norm\n",
    "myNormal = norm(loc = 520, scale = np.sqrt((520 / 30)))\n",
    "1 - myNormal.cdf(15800/30)"
   ]
  },
  {
   "cell_type": "markdown",
   "metadata": {},
   "source": [
    "As t→∞ this becomes more Gaussian. The approximation is pretty good for this setting."
   ]
  },
  {
   "cell_type": "markdown",
   "metadata": {},
   "source": [
    "**Question** - Suppose that in an AB test, one advertising scheme led to an average of 10 purchases per day\n",
    "for a sample of 100 days, while the other led to 11 purchases per day, also for a sample of\n",
    "100 days. Assuming a common standard deviation of 4 purchases per day. Assuming that the\n",
    "groups are independent and that they days are iid, perform a Z test of equivalence. Give a\n",
    "P-value for the test? "
   ]
  },
  {
   "cell_type": "code",
   "execution_count": 36,
   "metadata": {
    "collapsed": false
   },
   "outputs": [
    {
     "data": {
      "text/plain": [
       "0.077099871743541701"
      ]
     },
     "execution_count": 36,
     "metadata": {},
     "output_type": "execute_result"
    }
   ],
   "source": [
    "m1 = 10\n",
    "m2 = 11\n",
    "n1 = 100\n",
    "n2 = 100\n",
    "s = 4\n",
    "se = s * np.sqrt(1 / n1 + 1 / n2)\n",
    "ts = (m2 - m1) / se\n",
    "2 * norm.cdf(-np.abs(ts))"
   ]
  },
  {
   "cell_type": "markdown",
   "metadata": {},
   "source": [
    "It cannot be rejected."
   ]
  },
  {
   "cell_type": "markdown",
   "metadata": {},
   "source": [
    "**Question** - Consider the `mtcars` data set.\n",
    "1. Give the p-value for a t-test comparing MPG for 6 and 8 cylinder cars assuming equal\n",
    "variance, as a proportion to 3 decimal places.\n",
    "2. Give the associated P-value for a z test.\n",
    "3. Give the common standard deviation estimate for MPG across cylinders to 3 decimal\n",
    "places.\n",
    "4. Would the t test reject at the two sided 0.05 level (0 for no 1 for yes)?"
   ]
  },
  {
   "cell_type": "code",
   "execution_count": 50,
   "metadata": {
    "collapsed": false
   },
   "outputs": [
    {
     "data": {
      "text/plain": [
       "array([ 0.0002947])"
      ]
     },
     "execution_count": 50,
     "metadata": {},
     "output_type": "execute_result"
    }
   ],
   "source": [
    "# 1\n",
    "cyl_8 = mtcars.query('cyl == 8')[['mpg']]\n",
    "cyl_6 = mtcars.query('cyl == 6')[['mpg']]\n",
    "\n",
    "sm.CompareMeans(sm.DescrStatsW(cyl_8), sm.DescrStatsW(cyl_6)).ttest_ind()[1]"
   ]
  },
  {
   "cell_type": "markdown",
   "metadata": {},
   "source": [
    "So reject at %5 level."
   ]
  },
  {
   "cell_type": "code",
   "execution_count": 51,
   "metadata": {
    "collapsed": false
   },
   "outputs": [
    {
     "data": {
      "text/plain": [
       "array([  9.91545926e-06])"
      ]
     },
     "execution_count": 51,
     "metadata": {},
     "output_type": "execute_result"
    }
   ],
   "source": [
    "# 2\n",
    "sm.CompareMeans(sm.DescrStatsW(cyl_8), sm.DescrStatsW(cyl_6)).ztest_ind()[1]"
   ]
  },
  {
   "cell_type": "code",
   "execution_count": 54,
   "metadata": {
    "collapsed": false
   },
   "outputs": [
    {
     "data": {
      "text/plain": [
       "mpg    2.176192\n",
       "dtype: float64"
      ]
     },
     "execution_count": 54,
     "metadata": {},
     "output_type": "execute_result"
    }
   ],
   "source": [
    "# 3\n",
    "n8 = len(cyl_8)\n",
    "n6 = len(cyl_6)\n",
    "s8 = np.std(cyl_8)\n",
    "s6 = np.std(cyl_6)\n",
    "\n",
    "mixprob = (n8 - 1) / (n8 + n6 - 2)\n",
    "np.sqrt(mixprob * s8 ** 2  +  (1 - mixprob) * s6 ** 2)"
   ]
  },
  {
   "cell_type": "markdown",
   "metadata": {},
   "source": [
    "# Power"
   ]
  },
  {
   "cell_type": "markdown",
   "metadata": {},
   "source": [
    "** Question ** - Power is a probability calculation assuming which is true:\n",
    "1. The null hypothesis\n",
    "2. The alternative hypothesis\n",
    "3. Both the null and alternative"
   ]
  },
  {
   "cell_type": "markdown",
   "metadata": {},
   "source": [
    "2, Power is the probability of rejecting the null hypothesis when it is false."
   ]
  },
  {
   "cell_type": "markdown",
   "metadata": {},
   "source": [
    "** Question ** - As your sample size gets bigger, all else equal, what do you think would happen to power?\n",
    "\n",
    "1. It would get larger\n",
    "2. It would get smaller\n",
    "3. It would stay the same\n",
    "4. It cannot be determined from the information given"
   ]
  },
  {
   "cell_type": "markdown",
   "metadata": {},
   "source": [
    "1."
   ]
  },
  {
   "cell_type": "markdown",
   "metadata": {},
   "source": [
    "** Question ** - What happens to power as $\\mu_a$ gets further from $\\mu_0$?\n",
    "1. Power decreases\n",
    "2. Power increases\n",
    "3. Power stays the same\n",
    "4. Power oscillates"
   ]
  },
  {
   "cell_type": "markdown",
   "metadata": {},
   "source": [
    "2"
   ]
  },
  {
   "cell_type": "markdown",
   "metadata": {},
   "source": [
    "** Question ** - In the context of calculating power, the effect size is?\n",
    "1. The null mean divided by the standard deviation\n",
    "2. The alternative mean divided by the standard error\n",
    "3. The difference between the null and alternative means divided by the standard deviation\n",
    "4. The standard error divided by the null mean"
   ]
  },
  {
   "cell_type": "markdown",
   "metadata": {},
   "source": [
    "3"
   ]
  },
  {
   "cell_type": "markdown",
   "metadata": {},
   "source": [
    "** Question ** - Recall this problem “Suppose that in an AB test, one advertising scheme led to an average of 10 purchases per day for a sample of 100 days, while the other led to 11 purchases per day, also for a sample of 100 days. Assuming a common standard deviation of 4 purchases per day.” Assuming that 10 purchases per day is a benchmark null value, that days are iid and that the standard deviation is 4 purchases for day. Suppose that you plan on sampling 100 days. What would be the power for a one sided 5% Z mean test that purchases per day have increased under the alternative of $\\mu = 11$ purchase per day?"
   ]
  },
  {
   "cell_type": "code",
   "execution_count": 4,
   "metadata": {
    "collapsed": false
   },
   "outputs": [
    {
     "data": {
      "text/plain": [
       "0.80376494001549381"
      ]
     },
     "execution_count": 4,
     "metadata": {},
     "output_type": "execute_result"
    }
   ],
   "source": [
    "from scipy.stats import norm\n",
    "1 - norm(loc = 11, scale = 0.4).cdf(10 + norm().ppf(0.95) * 0.4)"
   ]
  },
  {
   "cell_type": "markdown",
   "metadata": {},
   "source": [
    "** Question ** - Researchers would like to conduct a study of healthy adults to detect a four year mean brain volume loss of .01 mm3. Assume that the standard deviation of four year volume loss in this population is .04 $mm^3$. What is necessary sample size for the study for a 5% one sided test versus a null hypothesis of no volume loss to achieve 80% power?"
   ]
  },
  {
   "cell_type": "markdown",
   "metadata": {},
   "source": [
    "Looking at the hint we set\n",
    "\n",
    "$$\\frac{0.1}{s/\\sqrt{n}} + z_{.95} = z_{.2}$$\n",
    "\n",
    "$$\\frac{{({z_{.95} - z_{.2}})^2}s^2}{.01^2} = \\frac{{({z_{.95} + z_{.2}})^2}s^2}{.01^2}$$"
   ]
  },
  {
   "cell_type": "code",
   "execution_count": 8,
   "metadata": {
    "collapsed": false
   },
   "outputs": [
    {
     "data": {
      "text/plain": [
       "98.920915712316258"
      ]
     },
     "execution_count": 8,
     "metadata": {},
     "output_type": "execute_result"
    }
   ],
   "source": [
    "(norm().ppf(0.95) + norm().ppf(0.8))** 2 * 0.04** 2 / 0.01**2"
   ]
  },
  {
   "cell_type": "markdown",
   "metadata": {},
   "source": [
    "# The bootstrap and resampling"
   ]
  },
  {
   "cell_type": "markdown",
   "metadata": {},
   "source": [
    "** Question ** - The bootstrap uses what to estimate the sampling distribution of a statistic?\n",
    "1. The true population distribution\n",
    "2. The empirical distribution that puts probability 1/n for each observed data point\n"
   ]
  },
  {
   "cell_type": "markdown",
   "metadata": {},
   "source": [
    "2"
   ]
  },
  {
   "cell_type": "markdown",
   "metadata": {},
   "source": [
    "** Question ** - When performing the bootstrap via Monte Carlo resampling for a data set of size n which is true? Assume that you’re going to do 10,000 bootstrap resamples?\n",
    "1. You sample n complete data sets of size 10,000 with replacement\n",
    "2. You sample 10,000 complete data sets of size n without replacement\n",
    "3. You sample 10,000 complete data sets of size n with replacement\n",
    "4. You sample n complete data sets of size 10,000 without replacement"
   ]
  },
  {
   "cell_type": "markdown",
   "metadata": {},
   "source": [
    "3"
   ]
  },
  {
   "cell_type": "markdown",
   "metadata": {},
   "source": [
    "** Question ** - Permutation tests do what?\n",
    "1. Creates a null distribution for a hypothesis test by permuting a predictor variable.\n",
    "2. Creates a null distribution by resampling from the response with replacement.\n",
    "3. Creates an alternative distribution by permuting group labels.\n",
    "4. Creates confidence intervals by resampling with replacement."
   ]
  },
  {
   "cell_type": "markdown",
   "metadata": {},
   "source": [
    "1"
   ]
  }
 ],
 "metadata": {
  "anaconda-cloud": {},
  "kernelspec": {
   "display_name": "Python [conda root]",
   "language": "python",
   "name": "conda-root-py"
  },
  "language_info": {
   "codemirror_mode": {
    "name": "ipython",
    "version": 3
   },
   "file_extension": ".py",
   "mimetype": "text/x-python",
   "name": "python",
   "nbconvert_exporter": "python",
   "pygments_lexer": "ipython3",
   "version": "3.5.2"
  }
 },
 "nbformat": 4,
 "nbformat_minor": 1
}
